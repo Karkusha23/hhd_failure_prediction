{
 "cells": [
  {
   "cell_type": "code",
   "execution_count": 1,
   "metadata": {},
   "outputs": [],
   "source": [
    "%load_ext autoreload"
   ]
  },
  {
   "cell_type": "code",
   "execution_count": 2,
   "metadata": {},
   "outputs": [],
   "source": [
    "%autoreload 2"
   ]
  },
  {
   "cell_type": "code",
   "execution_count": 3,
   "metadata": {},
   "outputs": [],
   "source": [
    "import os\n",
    "import sys\n",
    "\n",
    "colab = True\n",
    "if os.getenv(\"COLAB_RELEASE_TAG\"):\n",
    "    colab = True\n",
    "else:\n",
    "    colab = False\n",
    "\n",
    "if colab:\n",
    "    module_path = os.path.abspath(os.path.join('./real-hdd-failure/code/'))\n",
    "    if module_path not in sys.path:\n",
    "        sys.path.append(module_path)\n",
    "\n",
    "    helper_path = os.path.abspath(os.path.join('./real-hdd-failure/code/helper/'))\n",
    "    if helper_path not in sys.path:\n",
    "        sys.path.append(helper_path)\n",
    "    !{sys.executable} -m pip install -r ./real-hdd-failure/requirements.txt\n",
    "else:\n",
    "    module_path = os.path.abspath(os.path.join('..'))\n",
    "    if module_path not in sys.path:\n",
    "        sys.path.append(module_path)\n",
    "\n",
    "    helper_path = os.path.abspath(os.path.join('../helper'))\n",
    "    if helper_path not in sys.path:\n",
    "        sys.path.append(helper_path)\n",
    "# !{sys.executable} -m pip install -r ../../requirements.txt"
   ]
  },
  {
   "cell_type": "code",
   "execution_count": 4,
   "metadata": {},
   "outputs": [],
   "source": [
    "from helper.dataclass import *\n",
    "from helper.preprocessing import *\n",
    "from helper.eda import *\n",
    "from helper.algorithms.DoubleLayer import DoubleLayer\n",
    "from helper.metrics import *\n",
    "from helper.saver import *\n",
    "from sklearn.model_selection import train_test_split\n",
    "\n",
    "import warnings\n",
    "\n",
    "\n",
    "warnings.simplefilter(action='ignore', category=FutureWarning)"
   ]
  },
  {
   "cell_type": "markdown",
   "metadata": {},
   "source": [
    "## Data Preprocessing"
   ]
  },
  {
   "cell_type": "code",
   "execution_count": 5,
   "metadata": {},
   "outputs": [],
   "source": [
    "hdd_dataset = HDDDataset.read_csv('ST14000NM001G.csv')"
   ]
  },
  {
   "cell_type": "code",
   "execution_count": 6,
   "metadata": {},
   "outputs": [
    {
     "name": "stdout",
     "output_type": "stream",
     "text": [
      "Clearing unused columns...\n",
      "Adding target column...\n",
      "Prepairing train dataset...\n",
      "Adding time features to unsplitted dataset...\n",
      "Splitting train dataset...\n",
      "Normalizing splitted dataset with YJ...\n"
     ]
    }
   ],
   "source": [
    "preprocessor = Preprocessing(hdd_dataset)\n",
    "preprocessor.clear_unused_data()\n",
    "preprocessor.add_target_column()\n",
    "preprocessor.prepare_train_df()\n",
    "preprocessor.add_time_features()\n",
    "preprocessor.train_test_val_split(train_size=0.9, test_size=0.1, val_size=0)\n",
    "preprocessor.normalize_data(method='YJ')"
   ]
  },
  {
   "cell_type": "markdown",
   "metadata": {},
   "source": [
    "## Training"
   ]
  },
  {
   "cell_type": "code",
   "execution_count": 7,
   "metadata": {},
   "outputs": [
    {
     "name": "stdout",
     "output_type": "stream",
     "text": [
      "=== Обучаем модель первого слоя ===\n",
      "=== Выбранные признаки: ['failure', 'smart_5_raw', 'smart_9_raw', 'smart_187_raw', 'smart_188_raw', 'smart_192_raw', 'smart_197_raw', 'smart_199_raw', 'smart_240_raw', 'smart_241_raw', 'smart_242_raw', 'shift_smart_5_raw_1', 'shift_smart_9_raw_1', 'shift_smart_188_raw_1', 'shift_smart_192_raw_1', 'shift_smart_197_raw_1', 'shift_smart_199_raw_1', 'shift_smart_240_raw_1', 'shift_smart_241_raw_1', 'shift_smart_242_raw_1', 'diff_smart_9_raw_1', 'diff_smart_187_raw_1', 'diff_smart_188_raw_1', 'diff_smart_192_raw_1', 'diff_smart_197_raw_1', 'diff_smart_240_raw_1', 'diff_smart_241_raw_1', 'diff_smart_242_raw_1', 'smart_187_raw_normalized', 'smart_188_raw_normalized', 'smart_192_raw_normalized', 'smart_240_raw_normalized', 'smart_241_raw_normalized', 'smart_242_raw_normalized'] ===\n",
      "=== Получаем предсказания первой модели ===\n"
     ]
    },
    {
     "name": "stderr",
     "output_type": "stream",
     "text": [
      "d:\\Github Repos\\real-hdd-failure\\code\\helper\\algorithms\\DoubleLayer.py:129: SettingWithCopyWarning: \n",
      "A value is trying to be set on a copy of a slice from a DataFrame.\n",
      "Try using .loc[row_indexer,col_indexer] = value instead\n",
      "\n",
      "See the caveats in the documentation: https://pandas.pydata.org/pandas-docs/stable/user_guide/indexing.html#returning-a-view-versus-a-copy\n",
      "  X_selected['layer1_preds'] = layer1_preds\n"
     ]
    },
    {
     "name": "stdout",
     "output_type": "stream",
     "text": [
      "=== Обучаем вторую модель ===\n"
     ]
    }
   ],
   "source": [
    "dl = DoubleLayer(n_splits=5, n_opts=30)\n",
    "dl.fit(preprocessor.X_train, preprocessor.y_train)"
   ]
  },
  {
   "cell_type": "code",
   "execution_count": 8,
   "metadata": {},
   "outputs": [
    {
     "data": {
      "text/plain": [
       "[('smart_187_raw_normalized', 0.40630463),\n",
       " ('smart_187_raw', 0.23349284),\n",
       " ('smart_5_raw', 0.04271862),\n",
       " ('smart_197_raw', 0.038081054),\n",
       " ('smart_199_raw', 0.032846365),\n",
       " ('shift_smart_199_raw_1', 0.028598666),\n",
       " ('smart_240_raw_normalized', 0.022593712),\n",
       " ('smart_188_raw_normalized', 0.019030312),\n",
       " ('smart_188_raw', 0.01901043),\n",
       " ('smart_192_raw_normalized', 0.018221006),\n",
       " ('shift_smart_192_raw_1', 0.013556926),\n",
       " ('smart_192_raw', 0.012478201),\n",
       " ('smart_241_raw_normalized', 0.01160151),\n",
       " ('shift_smart_240_raw_1', 0.00933075),\n",
       " ('diff_smart_192_raw_1', 0.009108311),\n",
       " ('smart_242_raw_normalized', 0.008647421),\n",
       " ('smart_240_raw', 0.008137648),\n",
       " ('smart_242_raw', 0.007861959),\n",
       " ('shift_smart_242_raw_1', 0.007339875),\n",
       " ('shift_smart_241_raw_1', 0.006337287),\n",
       " ('smart_241_raw', 0.006095802),\n",
       " ('shift_smart_188_raw_1', 0.006010483),\n",
       " ('shift_smart_9_raw_1', 0.0052551227),\n",
       " ('smart_9_raw', 0.005240639),\n",
       " ('failure', 0.0033730478),\n",
       " ('shift_smart_5_raw_1', 0.0024762333),\n",
       " ('diff_smart_241_raw_1', 0.002080837),\n",
       " ('diff_smart_187_raw_1', 0.0020130645),\n",
       " ('diff_smart_242_raw_1', 0.0017673344),\n",
       " ('shift_smart_197_raw_1', 0.0016151925),\n",
       " ('diff_smart_9_raw_1', 0.0016144007),\n",
       " ('diff_smart_240_raw_1', 0.0015171539),\n",
       " ('diff_smart_188_raw_1', 0.001363042),\n",
       " ('diff_smart_197_raw_1', 0.0013231068),\n",
       " ('shift_smart_187_raw_1', 0.00081387843),\n",
       " ('diff_smart_199_raw_1', 0.0007780861),\n",
       " ('smart_199_raw_normalized', 0.00071862456),\n",
       " ('smart_197_raw_normalized', 0.00023676973),\n",
       " ('smart_5_raw_normalized', 0.00023336141),\n",
       " ('smart_9_raw_normalized', 0.00017621665),\n",
       " ('diff_smart_5_raw_1', 0.0)]"
      ]
     },
     "execution_count": 8,
     "metadata": {},
     "output_type": "execute_result"
    }
   ],
   "source": [
    "dl.feature2importance"
   ]
  },
  {
   "cell_type": "code",
   "execution_count": 9,
   "metadata": {},
   "outputs": [
    {
     "name": "stderr",
     "output_type": "stream",
     "text": [
      "d:\\Github Repos\\real-hdd-failure\\code\\helper\\algorithms\\DoubleLayer.py:138: SettingWithCopyWarning: \n",
      "A value is trying to be set on a copy of a slice from a DataFrame.\n",
      "Try using .loc[row_indexer,col_indexer] = value instead\n",
      "\n",
      "See the caveats in the documentation: https://pandas.pydata.org/pandas-docs/stable/user_guide/indexing.html#returning-a-view-versus-a-copy\n",
      "  X_selected['layer1_preds'] = layer1_preds\n"
     ]
    },
    {
     "name": "stdout",
     "output_type": "stream",
     "text": [
      "{'accuracy': 0.9996707717738025, 'precision': 0.8081264108352144, 'recall': 0.6964980544747081, 'f1': 0.748171368861024, 'auc_roc': 0.8481909275218376}\n"
     ]
    }
   ],
   "source": [
    "preds = dl.predict(preprocessor.X_test)\n",
    "metrics = Metrics.get_metrics(preds, preprocessor.y_test)\n",
    "print(metrics)"
   ]
  },
  {
   "cell_type": "code",
   "execution_count": 11,
   "metadata": {},
   "outputs": [
    {
     "name": "stdout",
     "output_type": "stream",
     "text": [
      "              precision    recall  f1-score   support\n",
      "\n",
      "           0       1.00      1.00      1.00    731501\n",
      "           1       0.81      0.70      0.75       514\n",
      "\n",
      "    accuracy                           1.00    732015\n",
      "   macro avg       0.90      0.85      0.87    732015\n",
      "weighted avg       1.00      1.00      1.00    732015\n",
      "\n"
     ]
    }
   ],
   "source": [
    "from sklearn.metrics import classification_report\n",
    "print(classification_report(preprocessor.y_test, preds))"
   ]
  },
  {
   "cell_type": "code",
   "execution_count": 10,
   "metadata": {},
   "outputs": [
    {
     "name": "stderr",
     "output_type": "stream",
     "text": [
      "c:\\Users\\rocke\\AppData\\Local\\Programs\\Python\\Python310\\lib\\site-packages\\xgboost\\core.py:158: UserWarning: [13:00:30] WARNING: C:\\buildkite-agent\\builds\\buildkite-windows-cpu-autoscaling-group-i-0c55ff5f71b100e98-1\\xgboost\\xgboost-ci-windows\\src\\c_api\\c_api.cc:1374: Saving model in the UBJSON format as default.  You can use file extension: `json`, `ubj` or `deprecated` to choose between formats.\n",
      "  warnings.warn(smsg, UserWarning)\n"
     ]
    }
   ],
   "source": [
    "Saver.save(dl, preprocessor, metrics, save_csv=False)"
   ]
  }
 ],
 "metadata": {
  "kernelspec": {
   "display_name": "Python 3",
   "language": "python",
   "name": "python3"
  },
  "language_info": {
   "codemirror_mode": {
    "name": "ipython",
    "version": 3
   },
   "file_extension": ".py",
   "mimetype": "text/x-python",
   "name": "python",
   "nbconvert_exporter": "python",
   "pygments_lexer": "ipython3",
   "version": "3.12.0"
  }
 },
 "nbformat": 4,
 "nbformat_minor": 2
}
