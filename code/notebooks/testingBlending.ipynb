{
 "cells": [
  {
   "cell_type": "code",
   "execution_count": 1,
   "metadata": {},
   "outputs": [],
   "source": [
    "%load_ext autoreload"
   ]
  },
  {
   "cell_type": "code",
   "execution_count": 2,
   "metadata": {},
   "outputs": [],
   "source": [
    "autoreload 2"
   ]
  },
  {
   "cell_type": "code",
   "execution_count": 3,
   "metadata": {
    "id": "WbcHpdIWV3UI"
   },
   "outputs": [],
   "source": [
    "import os\n",
    "import sys\n",
    "\n",
    "colab = True\n",
    "if os.getenv(\"COLAB_RELEASE_TAG\"):\n",
    "    colab = True\n",
    "else:\n",
    "    colab = False\n",
    "\n",
    "if colab:\n",
    "    module_path = os.path.abspath(os.path.join('./real-hdd-failure/code/'))\n",
    "    if module_path not in sys.path:\n",
    "        sys.path.append(module_path)\n",
    "\n",
    "    helper_path = os.path.abspath(os.path.join('./real-hdd-failure/code/helper/'))\n",
    "    if helper_path not in sys.path:\n",
    "        sys.path.append(helper_path)\n",
    "    !{sys.executable} -m pip install -r ./real-hdd-failure/requirements.txt\n",
    "else:\n",
    "    module_path = os.path.abspath(os.path.join('..'))\n",
    "    if module_path not in sys.path:\n",
    "        sys.path.append(module_path)\n",
    "\n",
    "    helper_path = os.path.abspath(os.path.join('../helper'))\n",
    "    if helper_path not in sys.path:\n",
    "        sys.path.append(helper_path)\n",
    "# !{sys.executable} -m pip install -r ../../requirements.txt"
   ]
  },
  {
   "cell_type": "code",
   "execution_count": 4,
   "metadata": {
    "colab": {
     "base_uri": "https://localhost:8080/"
    },
    "id": "2oFsQJXjUYWX",
    "outputId": "e735667e-d155-4e49-be54-9e937d254ff3"
   },
   "outputs": [],
   "source": [
    "from helper.dataclass import HDDDataset\n",
    "from helper.algorithms.Blending import Blending\n",
    "from helper.algorithms.Stacking import Stacking\n",
    "from helper.preprocessing import *\n",
    "from helper.metrics import *\n",
    "from helper.eda import *\n",
    "from sklearn.model_selection import train_test_split\n",
    "from helper.metrics import *\n",
    "from helper.saver import Saver"
   ]
  },
  {
   "cell_type": "markdown",
   "metadata": {
    "id": "glNRJEmjUYWX"
   },
   "source": [
    "## Data preprocessing"
   ]
  },
  {
   "cell_type": "code",
   "execution_count": 5,
   "metadata": {
    "colab": {
     "base_uri": "https://localhost:8080/",
     "height": 304
    },
    "id": "-a3s8McIUYWY",
    "outputId": "e6d43baf-835d-4641-c8d7-e01a21078ffd"
   },
   "outputs": [],
   "source": [
    "hdd_dataset = HDDDataset.read_csv('ST14000NM001G.csv')"
   ]
  },
  {
   "cell_type": "code",
   "execution_count": 6,
   "metadata": {
    "id": "0mk7zbLFUYWY",
    "outputId": "93e674a1-ebbe-4595-a3cc-655068b1a345"
   },
   "outputs": [
    {
     "name": "stdout",
     "output_type": "stream",
     "text": [
      "Clearing unused columns...\n",
      "Adding target column...\n",
      "Prepairing train dataset...\n",
      "Adding time features to unsplitted dataset...\n",
      "Splitting train dataset...\n",
      "Overampling with SMOTE\n"
     ]
    },
    {
     "name": "stderr",
     "output_type": "stream",
     "text": [
      "c:\\Users\\user\\AppData\\Local\\Programs\\Python\\Python312\\Lib\\site-packages\\imblearn\\over_sampling\\_smote\\base.py:370: FutureWarning: The parameter `n_jobs` has been deprecated in 0.10 and will be removed in 0.12. You can pass an nearest neighbors estimator where `n_jobs` is already set instead.\n",
      "  warnings.warn(\n"
     ]
    },
    {
     "name": "stdout",
     "output_type": "stream",
     "text": [
      "Normalizing splitted dataset with formulae...\n",
      "    Удаляем не нужные признаки...     \n",
      "failure \n",
      "diff_smart_5_raw_1 \n",
      "diff_smart_242_raw_1 \n",
      "diff_smart_240_raw_1 \n",
      "diff_smart_199_raw_1 \n",
      "diff_smart_9_raw_1 \n",
      "diff_smart_241_raw_1 \n",
      "shift_smart_9_raw_1 \n",
      "shift_smart_242_raw_1 \n",
      "shift_smart_241_raw_1 \n",
      "shift_smart_240_raw_1 \n",
      "smart_241_raw \n",
      "smart_9_raw \n"
     ]
    }
   ],
   "source": [
    "preprocessor = Preprocessing(hdd_dataset)\n",
    "preprocessor.clear_unused_data()\n",
    "preprocessor.add_target_column()\n",
    "preprocessor.prepare_train_df()\n",
    "preprocessor.add_time_features()\n",
    "preprocessor.train_test_val_split(train_size=0.75, val_size=0.15, test_size=0.1, sampling_strat=0.055, oversampling='Default')\n",
    "preprocessor.normalize_data(method='formulae', inplace=True)\n",
    "preprocessor.drop_unimportant_features(drop=13)\n",
    "preprocessor.rescale_types()"
   ]
  },
  {
   "cell_type": "markdown",
   "metadata": {
    "id": "fDbUU4j2UYWY"
   },
   "source": [
    "## Training"
   ]
  },
  {
   "cell_type": "code",
   "execution_count": 7,
   "metadata": {
    "id": "aJDYsQaUUYWZ"
   },
   "outputs": [
    {
     "name": "stdout",
     "output_type": "stream",
     "text": [
      "=== Обучаем RandomForestClassifier...  ===\n",
      "=== Обучаем CatBoostClassifier...  ===\n",
      "=== Обучаем XGBClassifier...  ===\n",
      "=== Обучаем мета модель... ===\n"
     ]
    }
   ],
   "source": [
    "model = Blending()\n",
    "preds = model.fit_predict(preprocessor.X_train, preprocessor.y_train, preprocessor.X_val, preprocessor.y_val, preprocessor.X_test)"
   ]
  },
  {
   "cell_type": "markdown",
   "metadata": {
    "id": "PdGrZuB5UYWZ"
   },
   "source": [
    "## Testing"
   ]
  },
  {
   "cell_type": "code",
   "execution_count": 13,
   "metadata": {},
   "outputs": [],
   "source": [
    "from sklearn.metrics import classification_report"
   ]
  },
  {
   "cell_type": "code",
   "execution_count": 16,
   "metadata": {},
   "outputs": [
    {
     "name": "stdout",
     "output_type": "stream",
     "text": [
      "              precision    recall  f1-score   support\n",
      "\n",
      "           0       1.00      1.00      1.00    292600\n",
      "           1       0.90      0.75      0.82       206\n",
      "\n",
      "    accuracy                           1.00    292806\n",
      "   macro avg       0.95      0.87      0.91    292806\n",
      "weighted avg       1.00      1.00      1.00    292806\n",
      "\n"
     ]
    }
   ],
   "source": [
    "print(classification_report(preprocessor.y_test, preds))"
   ]
  },
  {
   "cell_type": "code",
   "execution_count": 17,
   "metadata": {
    "id": "PvDy8QtQUYWZ"
   },
   "outputs": [
    {
     "name": "stdout",
     "output_type": "stream",
     "text": [
      "{'accuracy': 0.9997643490912071, 'precision': 0.9005847953216374, 'recall': 0.7475728155339806, 'f1': 0.8169761273209549, 'auc_roc': 0.8737573578695194}\n"
     ]
    }
   ],
   "source": [
    "metrics = Metrics.get_metrics(preds, preprocessor.y_test)\n",
    "print(metrics)\n",
    "# Посмотрим метрики"
   ]
  },
  {
   "cell_type": "markdown",
   "metadata": {
    "id": "wC61gWrfUYWZ"
   },
   "source": [
    "## Logging"
   ]
  },
  {
   "cell_type": "code",
   "execution_count": 9,
   "metadata": {
    "id": "ROHs7GPWUYWa"
   },
   "outputs": [],
   "source": [
    "Saver.save(model, preprocessor, metrics, save_csv=False)"
   ]
  }
 ],
 "metadata": {
  "colab": {
   "provenance": []
  },
  "kernelspec": {
   "display_name": "Python 3",
   "language": "python",
   "name": "python3"
  },
  "language_info": {
   "codemirror_mode": {
    "name": "ipython",
    "version": 3
   },
   "file_extension": ".py",
   "mimetype": "text/x-python",
   "name": "python",
   "nbconvert_exporter": "python",
   "pygments_lexer": "ipython3",
   "version": "3.12.0"
  }
 },
 "nbformat": 4,
 "nbformat_minor": 0
}
