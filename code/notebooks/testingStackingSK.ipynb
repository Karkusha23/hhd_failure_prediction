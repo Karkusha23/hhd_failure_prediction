{
 "cells": [
  {
   "cell_type": "code",
   "execution_count": 1,
   "metadata": {},
   "outputs": [],
   "source": [
    "%load_ext autoreload"
   ]
  },
  {
   "cell_type": "code",
   "execution_count": 2,
   "metadata": {},
   "outputs": [],
   "source": [
    "%autoreload 2"
   ]
  },
  {
   "cell_type": "code",
   "execution_count": 3,
   "metadata": {},
   "outputs": [],
   "source": [
    "import os\n",
    "import sys\n",
    "\n",
    "module_path = os.path.abspath(os.path.join('..'))\n",
    "if module_path not in sys.path:\n",
    "    sys.path.append(module_path)\n",
    "\n",
    "helper_path = os.path.abspath(os.path.join('../helper'))\n",
    "if helper_path not in sys.path:\n",
    "    sys.path.append(helper_path)\n",
    "# !{sys.executable} -m pip install -r ../../requirements.txt"
   ]
  },
  {
   "cell_type": "code",
   "execution_count": 4,
   "metadata": {},
   "outputs": [],
   "source": [
    "from helper.dataclass import HDDDataset\n",
    "from helper.algorithms.Stacking_sklearn import StackingSK\n",
    "from helper.preprocessing import *"
   ]
  },
  {
   "cell_type": "markdown",
   "metadata": {},
   "source": [
    "## Data preprocessing"
   ]
  },
  {
   "cell_type": "code",
   "execution_count": 5,
   "metadata": {},
   "outputs": [],
   "source": [
    "hdd_dataset = HDDDataset.read_csv('ST14000NM001G.csv')"
   ]
  },
  {
   "cell_type": "code",
   "execution_count": 6,
   "metadata": {},
   "outputs": [
    {
     "name": "stdout",
     "output_type": "stream",
     "text": [
      "Clearing unused columns...\n",
      "Adding target column...\n",
      "Prepairing train dataset...\n",
      "Adding time features to unsplitted dataset...\n",
      "Splitting train dataset...\n",
      "Normalizing splitted dataset with YJ...\n",
      "    Удаляем не нужные признаки...     \n",
      "failure \n",
      "diff_smart_5_raw_1 \n",
      "diff_smart_199_raw_1 \n",
      "smart_197_raw_normalized \n",
      "diff_smart_9_raw_1 \n",
      "diff_smart_240_raw_1 \n",
      "diff_smart_188_raw_1 \n",
      "smart_199_raw_normalized \n",
      "diff_smart_242_raw_1 \n",
      "diff_smart_241_raw_1 \n",
      "smart_9_raw_normalized \n",
      "diff_smart_192_raw_1 \n",
      "smart_242_raw_normalized \n",
      "smart_188_raw_normalized \n",
      "smart_241_raw_normalized \n"
     ]
    }
   ],
   "source": [
    "preprocessor = Preprocessing(hdd_dataset)\n",
    "preprocessor.clear_unused_data()\n",
    "preprocessor.add_target_column()\n",
    "preprocessor.prepare_train_df()\n",
    "preprocessor.add_time_features()\n",
    "preprocessor.train_test_val_split(train_size=0.9, test_size=0.1, val_size=0) #sampling_strat=0.05, oversampling='Default')\n",
    "preprocessor.normalize_data(method='YJ', inplace=True)\n",
    "preprocessor.drop_unimportant_features(drop=15)\n",
    "preprocessor.rescale_types()"
   ]
  },
  {
   "cell_type": "code",
   "execution_count": 7,
   "metadata": {},
   "outputs": [
    {
     "data": {
      "text/plain": [
       "0"
      ]
     },
     "execution_count": 7,
     "metadata": {},
     "output_type": "execute_result"
    }
   ],
   "source": [
    "import gc\n",
    "gc.collect()"
   ]
  },
  {
   "cell_type": "markdown",
   "metadata": {},
   "source": [
    "## Training"
   ]
  },
  {
   "cell_type": "code",
   "execution_count": 8,
   "metadata": {},
   "outputs": [],
   "source": [
    "model = StackingSK()\n",
    "model.fit(preprocessor.X_train, preprocessor.y_train)\n",
    "preds = model.predict(preprocessor.X_test)"
   ]
  },
  {
   "cell_type": "markdown",
   "metadata": {},
   "source": [
    "## Testing"
   ]
  },
  {
   "cell_type": "code",
   "execution_count": 9,
   "metadata": {},
   "outputs": [
    {
     "name": "stdout",
     "output_type": "stream",
     "text": [
      "{'accuracy': 0.999748639030621, 'precision': 0.9796511627906976, 'recall': 0.6556420233463035, 'f1': 0.7855477855477856, 'auc_roc': 0.8278162269906975}\n"
     ]
    }
   ],
   "source": [
    "from helper.metrics import *\n",
    "from helper.saver import Saver\n",
    "metrics = Metrics.get_metrics(preds, preprocessor.y_test)\n",
    "print(metrics)\n",
    "# Посмотрим метрики"
   ]
  },
  {
   "cell_type": "code",
   "execution_count": 10,
   "metadata": {},
   "outputs": [
    {
     "name": "stdout",
     "output_type": "stream",
     "text": [
      "              precision    recall  f1-score   support\n",
      "\n",
      "           0       1.00      1.00      1.00    731501\n",
      "           1       0.98      0.66      0.79       514\n",
      "\n",
      "    accuracy                           1.00    732015\n",
      "   macro avg       0.99      0.83      0.89    732015\n",
      "weighted avg       1.00      1.00      1.00    732015\n",
      "\n"
     ]
    }
   ],
   "source": [
    "from sklearn.metrics import classification_report\n",
    "print(classification_report(preprocessor.y_test, preds))"
   ]
  },
  {
   "cell_type": "markdown",
   "metadata": {},
   "source": [
    "## Logging"
   ]
  },
  {
   "cell_type": "code",
   "execution_count": 11,
   "metadata": {},
   "outputs": [],
   "source": [
    "Saver.save(model, preprocessor, metrics, save_csv=False)"
   ]
  }
 ],
 "metadata": {
  "kernelspec": {
   "display_name": "Python 3",
   "language": "python",
   "name": "python3"
  },
  "language_info": {
   "codemirror_mode": {
    "name": "ipython",
    "version": 3
   },
   "file_extension": ".py",
   "mimetype": "text/x-python",
   "name": "python",
   "nbconvert_exporter": "python",
   "pygments_lexer": "ipython3",
   "version": "3.12.0"
  }
 },
 "nbformat": 4,
 "nbformat_minor": 2
}
