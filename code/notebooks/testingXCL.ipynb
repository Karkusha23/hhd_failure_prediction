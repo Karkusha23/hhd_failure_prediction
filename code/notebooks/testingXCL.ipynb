{
 "cells": [
  {
   "cell_type": "code",
   "execution_count": 1,
   "metadata": {},
   "outputs": [],
   "source": [
    "%load_ext autoreload"
   ]
  },
  {
   "cell_type": "code",
   "execution_count": 2,
   "metadata": {},
   "outputs": [],
   "source": [
    "autoreload 2"
   ]
  },
  {
   "cell_type": "code",
   "execution_count": 3,
   "metadata": {},
   "outputs": [],
   "source": [
    "import sys\n",
    "# !{sys.executable} -m pip install -r ../../requirements.txt"
   ]
  },
  {
   "cell_type": "code",
   "execution_count": 4,
   "metadata": {},
   "outputs": [],
   "source": [
    "import sys\n",
    "import os\n",
    "\n",
    "module_path = os.path.abspath(os.path.join('..'))\n",
    "if module_path not in sys.path:\n",
    "    sys.path.append(module_path)\n",
    "\n",
    "helper_path = os.path.abspath(os.path.join('../helper'))\n",
    "if helper_path not in sys.path:\n",
    "    sys.path.append(helper_path)\n",
    "\n",
    "from helper.dataclass import HDDDataset\n",
    "from helper.models.mymodel import MyModel\n",
    "from helper.models.XCL import WeightedXCL\n",
    "from helper.preprocessing import *\n",
    "from helper.metrics import *\n",
    "from helper.eda import *\n",
    "from sklearn.model_selection import train_test_split\n",
    "from helper.metrics import *\n",
    "from helper.saver import Saver"
   ]
  },
  {
   "cell_type": "markdown",
   "metadata": {},
   "source": [
    "## Data preprocessing"
   ]
  },
  {
   "cell_type": "code",
   "execution_count": 5,
   "metadata": {},
   "outputs": [],
   "source": [
    "hdd_dataset = HDDDataset.read_csv('ST14000NM001G.csv')"
   ]
  },
  {
   "cell_type": "code",
   "execution_count": 6,
   "metadata": {},
   "outputs": [
    {
     "name": "stdout",
     "output_type": "stream",
     "text": [
      "Clearing unused columns...\n",
      "Adding target column...\n",
      "Prepairing train dataset...\n",
      "Adding time features to unsplitted dataset...\n",
      "Splitting train dataset...\n",
      "Overampling with BorderlineSMOTE...\n"
     ]
    },
    {
     "name": "stderr",
     "output_type": "stream",
     "text": [
      "c:\\Users\\user\\AppData\\Local\\Programs\\Python\\Python312\\Lib\\site-packages\\imblearn\\over_sampling\\_smote\\filter.py:197: FutureWarning: The parameter `n_jobs` has been deprecated in 0.10 and will be removed in 0.12. You can pass an nearest neighbors estimator where `n_jobs` is already set instead.\n",
      "  warnings.warn(\n"
     ]
    },
    {
     "name": "stdout",
     "output_type": "stream",
     "text": [
      "Normalizing splitted dataset with formulae...\n",
      "    Удаляем не нужные признаки...     \n",
      "failure \n",
      "diff_smart_5_raw_1 \n",
      "diff_smart_242_raw_1 \n",
      "diff_smart_240_raw_1 \n",
      "diff_smart_199_raw_1 \n",
      "diff_smart_9_raw_1 \n",
      "diff_smart_241_raw_1 \n",
      "shift_smart_9_raw_1 \n",
      "shift_smart_242_raw_1 \n",
      "shift_smart_241_raw_1 \n",
      "shift_smart_240_raw_1 \n",
      "smart_241_raw \n",
      "smart_9_raw \n"
     ]
    }
   ],
   "source": [
    "preprocessor = Preprocessing(hdd_dataset)\n",
    "preprocessor.clear_unused_data()\n",
    "preprocessor.add_target_column()\n",
    "preprocessor.prepare_train_df()\n",
    "preprocessor.add_time_features()\n",
    "preprocessor.train_test_val_split(sampling_strat=0.005, oversampling='Borderline')\n",
    "preprocessor.normalize_data(method='formulae', inplace=True)\n",
    "preprocessor.drop_unimportant_features(drop=13)\n",
    "preprocessor.rescale_types()"
   ]
  },
  {
   "cell_type": "markdown",
   "metadata": {},
   "source": [
    "## Training"
   ]
  },
  {
   "cell_type": "code",
   "execution_count": 7,
   "metadata": {},
   "outputs": [
    {
     "name": "stdout",
     "output_type": "stream",
     "text": [
      "=== Оптимизация гиперпараметров для XGBoost... ===\n",
      "Лучшие параметры для XGBoost: {'colsample_bytree': 0.7334834444556088, 'gamma': 0.7143340896097039, 'learning_rate': 0.20526654188465587, 'max_depth': 7, 'n_estimators': 307, 'reg_alpha': 0.8609993861334124, 'reg_lambda': 0.9692763545078751, 'subsample': 0.5003893829205072}\n",
      "=== Оптимизация гиперпараметров для CatBoost... ===\n",
      "Лучшие параметры для CatBoost: {'bagging_temperature': 1.4439975445336495, 'border_count': 189, 'depth': 8, 'l2_leaf_reg': 1.0077876584101433, 'learning_rate': 0.30766346778736525, 'n_estimators': 210, 'random_strength': 1.1084844859190754}\n",
      "=== Оптимизация гиперпараметров для LightGBM... ===\n",
      "Лучшие параметры для LightGBM: {'colsample_bytree': 0.9464704583099741, 'learning_rate': 0.13022300234864176, 'max_depth': 10, 'min_child_samples': 12, 'n_estimators': 199, 'num_leaves': 72, 'reg_alpha': 0.9849549260809971, 'reg_lambda': 0.9162213204002109, 'subsample': 0.6061695553391381}\n",
      "{'xgboost': {'objective': 'binary:logistic', 'base_score': None, 'booster': None, 'callbacks': None, 'colsample_bylevel': None, 'colsample_bynode': None, 'colsample_bytree': 0.7334834444556088, 'device': None, 'early_stopping_rounds': None, 'enable_categorical': False, 'eval_metric': None, 'feature_types': None, 'gamma': 0.7143340896097039, 'grow_policy': None, 'importance_type': None, 'interaction_constraints': None, 'learning_rate': 0.20526654188465587, 'max_bin': None, 'max_cat_threshold': None, 'max_cat_to_onehot': None, 'max_delta_step': None, 'max_depth': 7, 'max_leaves': None, 'min_child_weight': None, 'missing': nan, 'monotone_constraints': None, 'multi_strategy': None, 'n_estimators': 307, 'n_jobs': -1, 'num_parallel_tree': None, 'random_state': None, 'reg_alpha': 0.8609993861334124, 'reg_lambda': 0.9692763545078751, 'sampling_method': None, 'scale_pos_weight': None, 'subsample': 0.5003893829205072, 'tree_method': None, 'validate_parameters': None, 'verbosity': None, 'weigth': 0.3}, 'catboost': {'nan_mode': 'Min', 'eval_metric': 'Logloss', 'iterations': 210, 'sampling_frequency': 'PerTree', 'leaf_estimation_method': 'Newton', 'random_score_type': 'NormalWithModelSizeDecrease', 'grow_policy': 'SymmetricTree', 'penalties_coefficient': 1, 'boosting_type': 'Plain', 'model_shrink_mode': 'Constant', 'feature_border_type': 'GreedyLogSum', 'bayesian_matrix_reg': 0.10000000149011612, 'eval_fraction': 0, 'force_unit_auto_pair_weights': False, 'l2_leaf_reg': 1.0077877044677734, 'random_strength': 1.1084845066070557, 'rsm': 1, 'boost_from_average': False, 'model_size_reg': 0.5, 'pool_metainfo_options': {'tags': {}}, 'subsample': 0.800000011920929, 'use_best_model': False, 'class_names': [0, 1], 'random_seed': 0, 'depth': 8, 'posterior_sampling': False, 'border_count': 189, 'classes_count': 0, 'auto_class_weights': 'None', 'sparse_features_conflict_fraction': 0, 'leaf_estimation_backtracking': 'AnyImprovement', 'best_model_min_trees': 1, 'model_shrink_rate': 0, 'min_data_in_leaf': 1, 'loss_function': 'Logloss', 'learning_rate': 0.3076634705066681, 'score_function': 'Cosine', 'task_type': 'CPU', 'leaf_estimation_iterations': 10, 'bootstrap_type': 'MVS', 'max_leaves': 256, 'weigth': 0.3}, 'lgbm': {'boosting_type': 'gbdt', 'class_weight': None, 'colsample_bytree': 0.9464704583099741, 'importance_type': 'split', 'learning_rate': 0.13022300234864176, 'max_depth': 10, 'min_child_samples': 12, 'min_child_weight': 0.001, 'min_split_gain': 0.0, 'n_estimators': 199, 'n_jobs': -1, 'num_leaves': 72, 'objective': None, 'random_state': None, 'reg_alpha': 0.9849549260809971, 'reg_lambda': 0.9162213204002109, 'subsample': 0.6061695553391381, 'subsample_for_bin': 200000, 'subsample_freq': 0, 'verbose': -1, 'weigth': 0.4}}\n"
     ]
    }
   ],
   "source": [
    "model = WeightedXCL()\n",
    "#model.fit(X_train, y_train)  # %%time\n",
    "model.optimize_models_hyperparameters(preprocessor.X_train, preprocessor.y_train)\n",
    "model.optimize_weights(preprocessor.X_val, preprocessor.y_val)\n",
    "print(model.get_hyperparams())"
   ]
  },
  {
   "cell_type": "markdown",
   "metadata": {},
   "source": [
    "## Testing"
   ]
  },
  {
   "cell_type": "code",
   "execution_count": 8,
   "metadata": {},
   "outputs": [
    {
     "name": "stdout",
     "output_type": "stream",
     "text": [
      "{'accuracy': 0.9997295141089813, 'precision': 0.9593023255813954, 'recall': 0.642023346303502, 'f1': 0.7692307692307693, 'auc_roc': 0.8210021037999242}\n"
     ]
    }
   ],
   "source": [
    "preds = model.predict(preprocessor.X_test)\n",
    "metrics = Metrics.get_metrics(preds, preprocessor.y_test)\n",
    "print(metrics)"
   ]
  },
  {
   "cell_type": "code",
   "execution_count": 9,
   "metadata": {},
   "outputs": [
    {
     "name": "stdout",
     "output_type": "stream",
     "text": [
      "              precision    recall  f1-score   support\n",
      "\n",
      "           0       1.00      1.00      1.00    365751\n",
      "           1       0.96      0.64      0.77       257\n",
      "\n",
      "    accuracy                           1.00    366008\n",
      "   macro avg       0.98      0.82      0.88    366008\n",
      "weighted avg       1.00      1.00      1.00    366008\n",
      "\n"
     ]
    }
   ],
   "source": [
    "from sklearn.metrics import classification_report\n",
    "print(classification_report(preprocessor.y_test, preds))"
   ]
  },
  {
   "cell_type": "markdown",
   "metadata": {},
   "source": [
    "## Logging"
   ]
  },
  {
   "cell_type": "code",
   "execution_count": 10,
   "metadata": {},
   "outputs": [
    {
     "name": "stderr",
     "output_type": "stream",
     "text": [
      "c:\\Users\\user\\AppData\\Local\\Programs\\Python\\Python312\\Lib\\site-packages\\xgboost\\core.py:158: UserWarning: [13:40:02] WARNING: C:\\buildkite-agent\\builds\\buildkite-windows-cpu-autoscaling-group-i-0c55ff5f71b100e98-1\\xgboost\\xgboost-ci-windows\\src\\c_api\\c_api.cc:1374: Saving model in the UBJSON format as default.  You can use file extension: `json`, `ubj` or `deprecated` to choose between formats.\n",
      "  warnings.warn(smsg, UserWarning)\n"
     ]
    }
   ],
   "source": [
    "Saver.save(model, preprocessor, metrics, save_csv=False)"
   ]
  },
  {
   "cell_type": "code",
   "execution_count": 11,
   "metadata": {},
   "outputs": [
    {
     "name": "stdout",
     "output_type": "stream",
     "text": [
      "[('diff_smart_188_raw_1', 0.0), ('diff_smart_192_raw_1', 0.0), ('shift_smart_197_raw_1', 0.01), ('diff_smart_197_raw_1', 0.013), ('smart_240_raw', 0.014), ('smart_242_raw', 0.016), ('smart_192_raw', 0.018), ('shift_smart_192_raw_1', 0.023), ('shift_smart_5_raw_1', 0.029), ('shift_smart_199_raw_1', 0.032), ('smart_197_raw', 0.035), ('diff_smart_187_raw_1', 0.064), ('smart_199_raw', 0.074), ('shift_smart_188_raw_1', 0.092), ('shift_smart_187_raw_1', 0.1), ('smart_5_raw', 0.113), ('smart_188_raw', 0.179), ('smart_187_raw', 0.187)]\n",
      "[('diff_smart_188_raw_1', 0.011), ('diff_smart_197_raw_1', 0.024), ('diff_smart_192_raw_1', 0.032), ('diff_smart_187_raw_1', 0.043), ('smart_197_raw', 0.141), ('shift_smart_197_raw_1', 0.213), ('shift_smart_187_raw_1', 0.301), ('shift_smart_5_raw_1', 0.338), ('smart_187_raw', 0.969), ('smart_5_raw', 1.243), ('shift_smart_199_raw_1', 1.968), ('smart_188_raw', 2.057), ('smart_199_raw', 2.418), ('shift_smart_188_raw_1', 4.468), ('smart_192_raw', 7.184), ('shift_smart_192_raw_1', 9.375), ('smart_240_raw', 34.589), ('smart_242_raw', 34.625)]\n",
      "[('diff_smart_188_raw_1', 25), ('diff_smart_192_raw_1', 76), ('shift_smart_199_raw_1', 159), ('diff_smart_197_raw_1', 193), ('shift_smart_188_raw_1', 239), ('diff_smart_187_raw_1', 255), ('smart_199_raw', 268), ('smart_188_raw', 396), ('smart_197_raw', 449), ('smart_5_raw', 468), ('shift_smart_192_raw_1', 600), ('smart_192_raw', 633), ('shift_smart_197_raw_1', 722), ('smart_187_raw', 742), ('shift_smart_187_raw_1', 742), ('shift_smart_5_raw_1', 894), ('smart_242_raw', 3475), ('smart_240_raw', 3542)]\n"
     ]
    }
   ],
   "source": [
    "lst1 = []\n",
    "lst2 = []\n",
    "lst3 = []\n",
    "for name, imp in zip(preprocessor.X_test.columns, model.model_xgb.feature_importances_):\n",
    "    lst1.append((name, round(imp, 3)))\n",
    "for name, imp in zip(preprocessor.X_test.columns, model.model_cat.feature_importances_):\n",
    "    lst2.append((name, round(imp, 3)))\n",
    "for name, imp in zip(preprocessor.X_test.columns, model.model_lgbm.feature_importances_):\n",
    "    lst3.append((name, imp))\n",
    "print(sorted(lst1, key=lambda x: x[1]))\n",
    "print(sorted(lst2, key=lambda x: x[1]))\n",
    "print(sorted(lst3, key=lambda x: x[1]))"
   ]
  },
  {
   "cell_type": "code",
   "execution_count": 12,
   "metadata": {},
   "outputs": [
    {
     "name": "stderr",
     "output_type": "stream",
     "text": [
      "C:\\Users\\user\\AppData\\Local\\Temp\\ipykernel_9276\\2005617931.py:15: UserWarning: set_ticklabels() should only be used with a fixed number of ticks, i.e. after set_ticks() or using a FixedLocator.\n",
      "  ax.set_xticklabels(ax.get_xticklabels(), rotation=90)\n"
     ]
    },
    {
     "data": {
      "image/png": "[encoded data removed]",
      "text/plain": [
       "<Figure size 1200x600 with 1 Axes>"
      ]
     },
     "metadata": {},
     "output_type": "display_data"
    }
   ],
   "source": [
    "import seaborn as sns\n",
    "data = []\n",
    "\n",
    "for name, imp in zip(preprocessor.X_test.columns, model.model_xgb.feature_importances_):\n",
    "    data.append({'model': 'xg', 'feature': name, 'imp': round(imp, 3)})\n",
    "for name, imp in zip(preprocessor.X_test.columns, model.model_cat.feature_importances_):\n",
    "    data.append({'model': 'cat', 'feature': name, 'imp': round(imp, 3)})\n",
    "for name, imp in zip(preprocessor.X_test.columns, model.model_lgbm.feature_importances_):\n",
    "    data.append({'model': 'lgbm', 'feature': name, 'imp': round(imp, 3)})\n",
    "df = pd.DataFrame(data)\n",
    "df['imp_norm'] = df.groupby('model')['imp'].transform(lambda x: x / x.max())\n",
    "plt.figure(figsize=(12, 6))\n",
    "\n",
    "ax = sns.barplot(x='feature', y='imp_norm', hue='model', data=df, palette='Paired')\n",
    "ax.set_xticklabels(ax.get_xticklabels(), rotation=90)\n",
    "\n",
    "plt.tight_layout()  # Чтобы избежать наложения текста\n",
    "plt.show()"
   ]
  }
 ],
 "metadata": {
  "kernelspec": {
   "display_name": "Python 3",
   "language": "python",
   "name": "python3"
  },
  "language_info": {
   "codemirror_mode": {
    "name": "ipython",
    "version": 3
   },
   "file_extension": ".py",
   "mimetype": "text/x-python",
   "name": "python",
   "nbconvert_exporter": "python",
   "pygments_lexer": "ipython3",
   "version": "3.12.0"
  }
 },
 "nbformat": 4,
 "nbformat_minor": 2
}
