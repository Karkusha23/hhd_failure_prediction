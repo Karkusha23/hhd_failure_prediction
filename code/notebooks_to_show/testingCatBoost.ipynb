{
 "cells": [
  {
   "cell_type": "code",
   "execution_count": 1,
   "metadata": {},
   "outputs": [],
   "source": [
    "%load_ext autoreload"
   ]
  },
  {
   "cell_type": "code",
   "execution_count": 2,
   "metadata": {},
   "outputs": [],
   "source": [
    "autoreload 2"
   ]
  },
  {
   "cell_type": "code",
   "execution_count": null,
   "metadata": {},
   "outputs": [],
   "source": [
    "# import sys\n",
    "# !{sys.executable} -m pip install -r ../../requirements.txt"
   ]
  },
  {
   "cell_type": "code",
   "execution_count": 4,
   "metadata": {},
   "outputs": [],
   "source": [
    "import sys\n",
    "import os\n",
    "\n",
    "module_path = os.path.abspath(os.path.join('..'))\n",
    "if module_path not in sys.path:\n",
    "    sys.path.append(module_path)\n",
    "\n",
    "helper_path = os.path.abspath(os.path.join('../helper'))\n",
    "if helper_path not in sys.path:\n",
    "    sys.path.append(helper_path)\n",
    "\n",
    "from helper.dataclass import HDDDataset\n",
    "from helper.models.mymodel import MyModel\n",
    "from helper.preprocessing import *\n",
    "from helper.metrics import *\n",
    "from helper.eda import *\n",
    "from sklearn.model_selection import train_test_split\n",
    "from helper.metrics import *\n",
    "from helper.saver import Saver"
   ]
  },
  {
   "cell_type": "markdown",
   "metadata": {},
   "source": [
    "## Data preprocessing"
   ]
  },
  {
   "cell_type": "code",
   "execution_count": 5,
   "metadata": {},
   "outputs": [],
   "source": [
    "hdd_dataset = HDDDataset.read_csv('ST14000NM001G.csv')"
   ]
  },
  {
   "cell_type": "code",
   "execution_count": 6,
   "metadata": {},
   "outputs": [
    {
     "name": "stdout",
     "output_type": "stream",
     "text": [
      "Clearing unused columns...\n",
      "Adding target column...\n",
      "Prepairing train dataset...\n",
      "Adding time features to unsplitted dataset...\n",
      "Splitting train dataset...\n",
      "Normalizing splitted dataset with boxcoxlog...\n"
     ]
    }
   ],
   "source": [
    "preprocessor = Preprocessing(hdd_dataset)\n",
    "preprocessor.clear_unused_data()\n",
    "preprocessor.add_target_column()\n",
    "preprocessor.prepare_train_df()\n",
    "preprocessor.add_time_features()\n",
    "preprocessor.train_test_val_split(train_size=0.8, test_size=0.2, val_size=0)\n",
    "preprocessor.normalize_data(method='boxcoxlog', inplace=True)"
   ]
  },
  {
   "cell_type": "markdown",
   "metadata": {},
   "source": [
    "## Training"
   ]
  },
  {
   "cell_type": "code",
   "execution_count": 7,
   "metadata": {},
   "outputs": [
    {
     "name": "stdout",
     "output_type": "stream",
     "text": [
      "=== Оптимизация гиперпараметров для CatBoost... ===\n",
      "Лучшие параметры для CatBoost:\n",
      "{'depth': 8, 'iterations': 200, 'learning_rate': 0.1}\n",
      "{'nan_mode': 'Min', 'eval_metric': 'Logloss', 'iterations': 200, 'sampling_frequency': 'PerTree', 'leaf_estimation_method': 'Newton', 'random_score_type': 'NormalWithModelSizeDecrease', 'grow_policy': 'SymmetricTree', 'penalties_coefficient': 1, 'boosting_type': 'Plain', 'model_shrink_mode': 'Constant', 'feature_border_type': 'GreedyLogSum', 'bayesian_matrix_reg': 0.10000000149011612, 'eval_fraction': 0, 'force_unit_auto_pair_weights': False, 'l2_leaf_reg': 3, 'random_strength': 1, 'rsm': 1, 'boost_from_average': False, 'model_size_reg': 0.5, 'pool_metainfo_options': {'tags': {}}, 'subsample': 0.800000011920929, 'use_best_model': False, 'class_names': [0, 1], 'random_seed': 0, 'depth': 8, 'posterior_sampling': False, 'border_count': 254, 'classes_count': 0, 'auto_class_weights': 'None', 'sparse_features_conflict_fraction': 0, 'leaf_estimation_backtracking': 'AnyImprovement', 'best_model_min_trees': 1, 'model_shrink_rate': 0, 'min_data_in_leaf': 1, 'loss_function': 'Logloss', 'learning_rate': 0.10000000149011612, 'score_function': 'Cosine', 'task_type': 'CPU', 'leaf_estimation_iterations': 10, 'bootstrap_type': 'MVS', 'max_leaves': 256}\n"
     ]
    }
   ],
   "source": [
    "model = MyModel('CatBoost')\n",
    "model.fit(preprocessor.X_train, preprocessor.y_train, method='grid', epochs=20)\n",
    "print(model.get_hyperparams())"
   ]
  },
  {
   "cell_type": "markdown",
   "metadata": {},
   "source": [
    "## Testing"
   ]
  },
  {
   "cell_type": "code",
   "execution_count": 8,
   "metadata": {},
   "outputs": [
    {
     "name": "stdout",
     "output_type": "stream",
     "text": [
      "{'accuracy': 0.9996735037352402, 'precision': 0.9661016949152542, 'recall': 0.5544747081712063, 'f1': 0.7045735475896168, 'auc_roc': 0.777230518820282}\n"
     ]
    }
   ],
   "source": [
    "preds = model.predict(preprocessor.X_test)\n",
    "metrics = Metrics.get_metrics(preds, preprocessor.y_test)\n",
    "print(metrics)"
   ]
  },
  {
   "cell_type": "code",
   "execution_count": 9,
   "metadata": {},
   "outputs": [
    {
     "name": "stdout",
     "output_type": "stream",
     "text": [
      "              precision    recall  f1-score   support\n",
      "\n",
      "           0       1.00      1.00      1.00   1463001\n",
      "           1       0.97      0.55      0.70      1028\n",
      "\n",
      "    accuracy                           1.00   1464029\n",
      "   macro avg       0.98      0.78      0.85   1464029\n",
      "weighted avg       1.00      1.00      1.00   1464029\n",
      "\n"
     ]
    }
   ],
   "source": [
    "from sklearn.metrics import classification_report\n",
    "print(classification_report(preprocessor.y_test, preds))"
   ]
  },
  {
   "cell_type": "markdown",
   "metadata": {},
   "source": [
    "## Logging"
   ]
  },
  {
   "cell_type": "code",
   "execution_count": 10,
   "metadata": {},
   "outputs": [],
   "source": [
    "Saver.save(model, preprocessor, metrics, save_csv=False)"
   ]
  }
 ],
 "metadata": {
  "kernelspec": {
   "display_name": "Python 3",
   "language": "python",
   "name": "python3"
  },
  "language_info": {
   "codemirror_mode": {
    "name": "ipython",
    "version": 3
   },
   "file_extension": ".py",
   "mimetype": "text/x-python",
   "name": "python",
   "nbconvert_exporter": "python",
   "pygments_lexer": "ipython3",
   "version": "3.12.0"
  }
 },
 "nbformat": 4,
 "nbformat_minor": 2
}
