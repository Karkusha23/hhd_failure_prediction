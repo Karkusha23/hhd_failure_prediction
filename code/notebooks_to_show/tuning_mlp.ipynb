{
 "cells": [
  {
   "cell_type": "code",
   "execution_count": 1,
   "metadata": {},
   "outputs": [],
   "source": [
    "%load_ext autoreload"
   ]
  },
  {
   "cell_type": "code",
   "execution_count": 2,
   "metadata": {},
   "outputs": [],
   "source": [
    "%autoreload 2"
   ]
  },
  {
   "cell_type": "code",
   "execution_count": 3,
   "metadata": {},
   "outputs": [],
   "source": [
    "import os\n",
    "import sys\n",
    "\n",
    "colab = True\n",
    "if os.getenv(\"COLAB_RELEASE_TAG\"):\n",
    "   colab = True\n",
    "else:\n",
    "   colab = False\n",
    "\n",
    "if colab:\n",
    "    module_path = os.path.abspath(os.path.join('./real-hdd-failure/code/'))\n",
    "    if module_path not in sys.path:\n",
    "        sys.path.append(module_path)\n",
    "\n",
    "    helper_path = os.path.abspath(os.path.join('./real-hdd-failure/code/helper/'))\n",
    "    if helper_path not in sys.path:\n",
    "        sys.path.append(helper_path)\n",
    "    !{sys.executable} -m pip install -r ./real-hdd-failure/requirements.txt\n",
    "else:\n",
    "    module_path = os.path.abspath(os.path.join('..'))\n",
    "    if module_path not in sys.path:\n",
    "        sys.path.append(module_path)\n",
    "\n",
    "    helper_path = os.path.abspath(os.path.join('../helper'))\n",
    "    if helper_path not in sys.path:\n",
    "        sys.path.append(helper_path)\n",
    "# !{sys.executable} -m pip install -r ../../requirements.txt"
   ]
  },
  {
   "cell_type": "code",
   "execution_count": 4,
   "metadata": {},
   "outputs": [],
   "source": [
    "from helper.dataclass import HDDDataset\n",
    "from helper.algorithms.Blending import Blending\n",
    "from helper.algorithms.Stacking import Stacking\n",
    "from helper.algorithms.Stacking_sklearn import StackingSK\n",
    "from helper.preprocessing import *\n",
    "from helper.metrics import *\n",
    "from helper.eda import *\n",
    "from sklearn.model_selection import train_test_split\n",
    "from helper.metrics import *\n",
    "from helper.saver import Saver"
   ]
  },
  {
   "cell_type": "code",
   "execution_count": 5,
   "metadata": {},
   "outputs": [],
   "source": [
    "import numpy as np\n",
    "from sklearn.neural_network import MLPClassifier\n",
    "from sklearn.model_selection import RandomizedSearchCV\n",
    "from scipy.stats import uniform, randint"
   ]
  },
  {
   "cell_type": "code",
   "execution_count": 6,
   "metadata": {},
   "outputs": [],
   "source": [
    "hdd_dataset = HDDDataset.read_csv('ST14000NM001G.csv')"
   ]
  },
  {
   "cell_type": "code",
   "execution_count": null,
   "metadata": {},
   "outputs": [],
   "source": [
    "preprocessor = Preprocessing(hdd_dataset)\n",
    "preprocessor.clear_unused_data()\n",
    "preprocessor.add_target_column()\n",
    "preprocessor.prepare_train_df()\n",
    "preprocessor.add_time_features()\n",
    "preprocessor.train_test_val_split(train_size=0.8, test_size=0.1, val_size=0.1) \n",
    "preprocessor.normalize_data(method='formulae', inplace=False)\n",
    "preprocessor.normalize_data(method='YJ', inplace=True)\n",
    "preprocessor.drop_unimportant_features(drop=14)\n",
    "preprocessor.rescale_types()"
   ]
  },
  {
   "cell_type": "code",
   "execution_count": 8,
   "metadata": {},
   "outputs": [],
   "source": [
    "param_distributions = {\n",
    "    'hidden_layer_sizes': [\n",
    "        (128, 64), (256, 128, 64), \n",
    "    ], \n",
    "    'activation': ['tanh', 'relu'],  \n",
    "    'solver': ['adam', 'lbfgs'],  \n",
    "    'alpha': uniform(0.0001, 0.5),  # Более широкий диапазон для регуляризации L2\n",
    "    'learning_rate': ['constant', 'adaptive', 'invscaling'],  # Дополнительно 'invscaling'\n",
    "    'learning_rate_init': uniform(0.00001, 0.1),  # Диапазон начальной скорости обучения\n",
    "    'batch_size': randint(128, 512),  # Размер пакета увеличен для больших моделей\n",
    "    'beta_1': uniform(0.5, 0.5),  # Для Adam оптимизатора\n",
    "    'beta_2': uniform(0.5, 0.5),  # Для Adam оптимизатора\n",
    "    'epsilon': uniform(1e-8, 1e-6)\n",
    "}"
   ]
  },
  {
   "cell_type": "code",
   "execution_count": 9,
   "metadata": {},
   "outputs": [],
   "source": [
    "mlp = MLPClassifier(max_iter=1500, random_state=42)"
   ]
  },
  {
   "cell_type": "code",
   "execution_count": 10,
   "metadata": {},
   "outputs": [],
   "source": [
    "random_search = RandomizedSearchCV(\n",
    "    mlp, param_distributions, n_iter=100, cv=4, random_state=42\n",
    ")"
   ]
  },
  {
   "cell_type": "code",
   "execution_count": null,
   "metadata": {},
   "outputs": [],
   "source": [
    "random_search.fit(preprocessor.X_train, preprocessor.y_train)\n",
    "\n",
    "# Лучшие параметры\n",
    "print(\"Лучшие параметры: \", random_search.best_params_)"
   ]
  }
 ],
 "metadata": {
  "kernelspec": {
   "display_name": "Python 3",
   "language": "python",
   "name": "python3"
  },
  "language_info": {
   "codemirror_mode": {
    "name": "ipython",
    "version": 3
   },
   "file_extension": ".py",
   "mimetype": "text/x-python",
   "name": "python",
   "nbconvert_exporter": "python",
   "pygments_lexer": "ipython3",
   "version": "3.12.0"
  }
 },
 "nbformat": 4,
 "nbformat_minor": 2
}
